{
  "cells": [
    {
      "cell_type": "markdown",
      "metadata": {},
      "source": [
        "\n",
        "# 👋 Welcome to PDS SBN JupyterHub\n",
        "\n",
        "**Last updated:** September 26, 2025\n",
        "\n",
        "This notebook gives you a quick tour of your environment, where to find the **PDS Small Bodies Node (SBN)** archive, and how to start exploring data with the **PDS Peppi** Python library.\n",
        "\n",
        "> You can run cells with **Shift+Enter** and navigate the notebook from the **Table of Contents** at left (if using JupyterLab).\n"
      ]
    },
    {
      "cell_type": "markdown",
      "metadata": {},
      "source": [
        "\n",
        "## TL;DR\n",
        "\n",
        "- **Archive location:** The PDS SBN archive is mounted at `pds.sbn`. It is **read‑only**.  \n",
        "- **Your workspace:** Everything else in your environment (e.g., your home directory) is **writable** for your work.  \n",
        "- **Persistence:** Your work in your home directory **is saved across sessions**—log out and back in later to pick up where you left off.  \n",
        "- **Search for data products:** Use the Python library **`pds.peppi` (Peppi)**. Documentation: <https://nasa-pds.github.io/peppi/>  \n",
        "- **Tip:** Create a `projects/` folder in your home directory for notebooks and results.\n"
      ]
    },
    {
      "cell_type": "markdown",
      "metadata": {},
      "source": [
        "\n",
        "## 1) Locate the SBN archive and verify read‑only access\n",
        "The cell below locates `pds.sbn` and confirms whether it is readable, and checks if it is writable (it should not be).\n"
      ]
    },
    {
      "cell_type": "code",
      "execution_count": null,
      "metadata": {},
      "outputs": [],
      "source": [
        "\n",
        "from pathlib import Path\n",
        "import os\n",
        "\n",
        "PDS_SBN_PATH = Path('pds.sbn')\n",
        "\n",
        "print(f\"Readable: {os.access(PDS_SBN_PATH, os.R_OK)}  |  Writable (should be False): {os.access(PDS_SBN_PATH, os.W_OK)}\")\n",
        "# Show a few top-level entries\n",
        "entries = sorted([e.name for e in PDS_SBN_PATH.iterdir()][:10]) if PDS_SBN_PATH.is_dir() else []\n",
        "print(\"Top-level entries (first 10):\")\n",
        "for name in entries:\n",
        "    print(\" •\", name)\n"
      ]
    },
    {
      "cell_type": "markdown",
      "metadata": {},
      "source": [
        "\n",
        "## 2) Your workspace and persistence\n",
        "The following cell prints your home directory and demonstrates writing a small file there. You should see that creating a file in your home directory works, confirming that your workspace is writable. Files you save here persist across sessions.\n"
      ]
    },
    {
      "cell_type": "code",
      "execution_count": null,
      "metadata": {},
      "outputs": [],
      "source": [
        "\n",
        "from pathlib import Path\n",
        "HOME = Path.home()\n",
        "print(\"Home directory:\", HOME)\n",
        "\n",
        "# Create a projects folder if it does not exist\n",
        "projects = HOME / 'work'\n",
        "projects.mkdir(exist_ok=True)\n",
        "\n",
        "# Demonstrate persistence by writing a small file\n",
        "marker = projects / 'welcome_persistence_check.txt'\n",
        "marker.write_text('This file was created by the Welcome notebook. You can delete it safely.')\n",
        "print(f\"Wrote: {marker}\")\n",
        "\n",
        "# Show available disk space where your home directory resides\n",
        "import shutil\n",
        "usage = shutil.disk_usage(HOME)\n",
        "print(f\"Disk usage for {HOME}: total={usage.total/1e9:.1f} GB, used={usage.used/1e9:.1f} GB, free={usage.free/1e9:.1f} GB\")\n"
      ]
    },
    {
      "cell_type": "markdown",
      "metadata": {},
      "source": [
        "\n",
        "## 3) Install and import **Peppi** (`pds.peppi`)\n",
        "If Peppi is not already available in this Python environment, you can install it with **pip** or **conda**. In Jupyter, prefix shell commands with `!`.\n",
        "\n",
        "> • **Pip (recommended in most JupyterHub setups):** `!pip install --quiet pds.peppi`  \n",
        "> • **Conda (if you manage environments via conda):** `!mamba install -y -c conda-forge pds.peppi` (or use `conda` if `mamba` is unavailable)\n"
      ]
    },
    {
      "cell_type": "code",
      "execution_count": null,
      "metadata": {},
      "outputs": [],
      "source": [
        "\n",
        "# Uncomment ONE of the following if pds.peppi is not already installed.\n",
        "# !pip install --quiet pds.peppi\n",
        "# !mamba install -y -c conda-forge pds.peppi  # or: !conda install -y -c conda-forge pds.peppi\n",
        "\n",
        "# Import the package (robustly) and print its version\n",
        "import importlib\n",
        "try:\n",
        "    peppi = importlib.import_module('pds.peppi')\n",
        "    try:\n",
        "        # Prefer importlib.metadata for version if available\n",
        "        from importlib.metadata import version\n",
        "        print('pds.peppi version:', version('pds.peppi'))\n",
        "    except Exception:\n",
        "        print('pds.peppi imported successfully.')\n",
        "except ModuleNotFoundError as e:\n",
        "    print('pds.peppi is not installed yet. See the cell above for installation instructions.')\n"
      ]
    },
    {
      "cell_type": "markdown",
      "metadata": {},
      "source": [
        "\n",
        "## 4) Quickstart: searching PDS data with Peppi\n",
        "\n",
        "Please see the official **Peppi Quickstart** for the latest examples and query syntax: <https://nasa-pds.github.io/peppi/quickstart.html>.\n",
        "\n",
        "Below is a minimal pattern you can adapt. Replace the example query terms with your own (mission, target, instrument, bundle, etc.).\n"
      ]
    },
    {
      "cell_type": "code",
      "execution_count": null,
      "metadata": {},
      "outputs": [],
      "source": [
        "\n",
        "# Example usage pattern (may evolve across Peppi versions; see docs for details):\n",
        "# from pds.peppi import Client  # or appropriate entry point as per the Quickstart\n",
        "# client = Client()             # initialize the client (defaults are fine for public API)\n",
        "#\n",
        "# # Example: search for products mentioning 'DART' in the title (adjust to your needs)\n",
        "# results = client.search(text='DART', limit=10)\n",
        "# for r in results:\n",
        "#     print(r.get('identifier'), '-', r.get('title'))\n",
        "#\n",
        "# # You can also filter by discipline, target, bundle, collection, product type, etc.\n",
        "# # See the Quickstart and API docs for supported fields and query operators.\n",
        "\n",
        "print(\"This cell is a template. Un-comment and modify it after reviewing the Quickstart docs.\")\n"
      ]
    },
    {
      "cell_type": "markdown",
      "metadata": {},
      "source": [
        "\n",
        "## 5) Good-to-know tips\n",
        "\n",
        "- **Terminals and packages:** Use *File → New → Terminal* to run shell commands (git, python, pip, mamba/conda).  \n",
        "- **Kernels & environments:** If you maintain multiple environments, pick the correct Python kernel from the top-right kernel selector.  \n",
        "- **Saving work:** Use *File → Save and Checkpoint* frequently. Your files in your home directory persist across sessions.  \n",
        "- **Large reads from `pds.sbn`:** The archive is on a shared, read-only volume. Consider copying only the files you need into your `projects/` folder for faster iterative work.  \n",
        "- **Performance:** Use vectorized I/O (e.g., `pandas.read_csv`, memory maps) and avoid repeatedly scanning huge directories.  \n",
        "- **Backups:** Treat `projects/` as your working area. Follow your team’s guidance for long-term archival/backup of results.\n"
      ]
    },
    {
      "cell_type": "markdown",
      "metadata": {},
      "source": [
        "\n",
        "## 6) Troubleshooting & support (fill in by your admin)\n",
        "\n",
        "- **Who to contact:** _TODO: add your local support contact or helpdesk address here._  \n",
        "- **Known limits:** _TODO: document any CPU/RAM/time limits or storage quotas for this JupyterHub._  \n",
        "- **Service news:** _TODO: link to status page, if available._\n"
      ]
    },
    {
      "cell_type": "markdown",
      "metadata": {},
      "source": [
        "\n",
        "---\n",
        "### Appendix: System info\n",
        "Run the cell below to print basic environment info (Python, CPU cores, memory estimate).\n"
      ]
    },
    {
      "cell_type": "code",
      "execution_count": null,
      "metadata": {},
      "outputs": [],
      "source": [
        "\n",
        "import os, sys, platform\n",
        "from pathlib import Path\n",
        "\n",
        "print('Python:', sys.version)\n",
        "print('Executable:', sys.executable)\n",
        "print('Platform:', platform.platform())\n",
        "print('CPU cores:', os.cpu_count())\n",
        "\n",
        "# Memory estimate (Linux):\n",
        "try:\n",
        "    meminfo = Path('/proc/meminfo').read_text().splitlines()\n",
        "    mem_kb = next(int(line.split()[1]) for line in meminfo if line.startswith('MemTotal:'))\n",
        "    print(f\"Memory (total): {mem_kb/1_048_576:.2f} GiB\")\n",
        "except Exception:\n",
        "    print('Memory info unavailable')\n"
      ]
    }
  ],
  "metadata": {
    "kernelspec": {
      "display_name": "Python 3",
      "language": "python",
      "name": "python3"
    },
    "language_info": {
      "name": "python",
      "version": "3"
    }
  },
  "nbformat": 4,
  "nbformat_minor": 5
}
